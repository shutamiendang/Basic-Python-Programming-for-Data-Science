{
  "nbformat": 4,
  "nbformat_minor": 0,
  "metadata": {
    "colab": {
      "name": "Tugas2 Bag 2_Siti Hutami Endang Nopiyanti_1800015085.ipynb",
      "provenance": [],
      "collapsed_sections": [],
      "authorship_tag": "ABX9TyP9W8YXWsBmmCanTAem+ohr",
      "include_colab_link": true
    },
    "kernelspec": {
      "name": "python3",
      "display_name": "Python 3"
    },
    "language_info": {
      "name": "python"
    }
  },
  "cells": [
    {
      "cell_type": "markdown",
      "metadata": {
        "id": "view-in-github",
        "colab_type": "text"
      },
      "source": [
        "<a href=\"https://colab.research.google.com/github/shutamiendang/Basic-Python-Programming-for-Data-Science/blob/main/Tugas2_Bag_2_Siti_Hutami_Endang_Nopiyanti_1800015085.ipynb\" target=\"_parent\"><img src=\"https://colab.research.google.com/assets/colab-badge.svg\" alt=\"Open In Colab\"/></a>"
      ]
    },
    {
      "cell_type": "code",
      "metadata": {
        "id": "bjw5YqMVMhV6"
      },
      "source": [
        ""
      ],
      "execution_count": null,
      "outputs": []
    },
    {
      "cell_type": "markdown",
      "metadata": {
        "id": "Sh1XfdBZQ-qH"
      },
      "source": [
        "## Input & Output pada Pyhton"
      ]
    },
    {
      "cell_type": "markdown",
      "metadata": {
        "id": "pT6FBH70REn5"
      },
      "source": [
        "Kita akan memulai dengan mencoba mengenal dan memahami proses input dan output pada bahasa pemrograman python. Sebuah Program terdiri dari Input, Proses dan Output\n",
        "\n",
        "**Membuat input dengan fungsi input()**\n",
        "\n",
        "format input() :\n",
        "input(*object, nilai)\n",
        "\n",
        "Sebuah input dapat dikelola berdasarkan tipe datanya :\n",
        "\n",
        "* input() : nilai berupa string\n",
        "\n",
        "* str(input()) : nilai berupa string\n",
        "\n",
        "* int(input()) : nilai berupa integer\n",
        "\n",
        "* float(input()) : nilai berupa float\n",
        "\n",
        "* bool(input()) : nilai berupa boolean\n",
        "\n",
        "**Untuk menampilkan Output dengan fungsi print()**\n",
        "\n",
        "format print() :\n",
        "print(*object, sep=' ', end='\\n', file=sys.stdout, flush=False/True)"
      ]
    },
    {
      "cell_type": "code",
      "metadata": {
        "colab": {
          "base_uri": "https://localhost:8080/"
        },
        "id": "5ue0A3QjRewI",
        "outputId": "a7961295-04f1-4c95-8e37-3dd2cb2f1228"
      },
      "source": [
        "#ew mencoba input bertipe data string (str)\n",
        "nama = input(\"Nama : \")\n",
        "umur = input(\"Umur : \")\n",
        "alamat = input(\"Alamat : \")\n",
        "universitas = input(\"Universitas : \")\n",
        "hobi = input(\"Hobi : \")\n",
        "mediasosial = input(\"Instagram : \")"
      ],
      "execution_count": 3,
      "outputs": [
        {
          "output_type": "stream",
          "text": [
            "Nama : Siti Hutami Endang Nopiyanti\n",
            "Umur : 21 Tahun\n",
            "Alamat : Jalan Luar Batang II No.31 RT/RW 01 Penjaringan, Jakarta Utara. kode pos :14440 . DKI Jakarta\n",
            "Universitas : Universitas Ahmad Dahlan\n",
            "Hobi : Traveling dan Editor Photo\n",
            "Instagram : @ewendangs\n"
          ],
          "name": "stdout"
        }
      ]
    },
    {
      "cell_type": "code",
      "metadata": {
        "colab": {
          "base_uri": "https://localhost:8080/"
        },
        "id": "yweg3LI6UCJH",
        "outputId": "24a86caa-d8a9-497d-af87-b52dcbe055ff"
      },
      "source": [
        "print(nama)\n",
        "print(umur)\n",
        "print(alamat)\n",
        "print(universitas)\n",
        "print(mediasosial)\n",
        "type(nama)\n",
        "type(umur)\n",
        "type(alamat)\n",
        "type(mediasosial)"
      ],
      "execution_count": 4,
      "outputs": [
        {
          "output_type": "stream",
          "text": [
            "Siti Hutami Endang Nopiyanti\n",
            "21 Tahun\n",
            "Jalan Luar Batang II No.31 RT/RW 01 Penjaringan, Jakarta Utara. kode pos :14440 . DKI Jakarta\n",
            "Universitas Ahmad Dahlan\n",
            "@ewendangs\n"
          ],
          "name": "stdout"
        },
        {
          "output_type": "execute_result",
          "data": {
            "text/plain": [
              "str"
            ]
          },
          "metadata": {
            "tags": []
          },
          "execution_count": 4
        }
      ]
    },
    {
      "cell_type": "markdown",
      "metadata": {
        "id": "XvcgAumgUgbJ"
      },
      "source": [
        "ew mencoba"
      ]
    },
    {
      "cell_type": "code",
      "metadata": {
        "colab": {
          "base_uri": "https://localhost:8080/"
        },
        "id": "oW56E4MxVIgq",
        "outputId": "023379d8-855c-41d9-a59d-9999ea2d576f"
      },
      "source": [
        "# Membuat input bertipe data integer (int)\n",
        "tryin = (int(input())+ float(input()))\n",
        "print(tryin)"
      ],
      "execution_count": 5,
      "outputs": [
        {
          "output_type": "stream",
          "text": [
            "5\n",
            "10\n",
            "15.0\n"
          ],
          "name": "stdout"
        }
      ]
    },
    {
      "cell_type": "markdown",
      "metadata": {
        "id": "_NFSfEhBXBNA"
      },
      "source": [
        "ew mencoba kembali"
      ]
    },
    {
      "cell_type": "code",
      "metadata": {
        "colab": {
          "base_uri": "https://localhost:8080/"
        },
        "id": "OlED-NTeXq1v",
        "outputId": "05e0b921-c29e-4611-8dc6-7f7cb1f60581"
      },
      "source": [
        "print(\"Nama saya\"+\" \"+ nama +\", \"+ \"berumur\"+\" \"+ umur +\" \"+ \"yang sedang menempuh pendidikan di\"+\" \"+ universitas)"
      ],
      "execution_count": 9,
      "outputs": [
        {
          "output_type": "stream",
          "text": [
            "Nama saya Siti Hutami Endang Nopiyanti, berumur 21 Tahun yang sedang menempuh pendidikan di Universitas Ahmad Dahlan\n"
          ],
          "name": "stdout"
        }
      ]
    },
    {
      "cell_type": "markdown",
      "metadata": {
        "id": "jfUhSQslb9qc"
      },
      "source": [
        "**Menampilkan Output cara kedua**\n",
        "\n",
        "Menggunakan fungsi format()"
      ]
    },
    {
      "cell_type": "code",
      "metadata": {
        "colab": {
          "base_uri": "https://localhost:8080/",
          "height": 35
        },
        "id": "UPINgOWgb_XS",
        "outputId": "f3c3cdda-6f1c-4331-e5ff-20bf8215e961"
      },
      "source": [
        "txt1 = \"Nama saya {nama}, Saya berumur {umur}\".format(nama = \"Ken\", umur = 20)\n",
        "txt1"
      ],
      "execution_count": 10,
      "outputs": [
        {
          "output_type": "execute_result",
          "data": {
            "application/vnd.google.colaboratory.intrinsic+json": {
              "type": "string"
            },
            "text/plain": [
              "'Nama saya Ken, Saya berumur 20'"
            ]
          },
          "metadata": {
            "tags": []
          },
          "execution_count": 10
        }
      ]
    },
    {
      "cell_type": "code",
      "metadata": {
        "colab": {
          "base_uri": "https://localhost:8080/",
          "height": 35
        },
        "id": "huloTmiNcUri",
        "outputId": "350bf883-ec96-4026-e7a7-c9ac65fb4d4d"
      },
      "source": [
        "txt2 = \"Nama saya {0}, Saya berumur {1}\".format(\"Ken\",20)\n",
        "txt2"
      ],
      "execution_count": 11,
      "outputs": [
        {
          "output_type": "execute_result",
          "data": {
            "application/vnd.google.colaboratory.intrinsic+json": {
              "type": "string"
            },
            "text/plain": [
              "'Nama saya Ken, Saya berumur 20'"
            ]
          },
          "metadata": {
            "tags": []
          },
          "execution_count": 11
        }
      ]
    },
    {
      "cell_type": "code",
      "metadata": {
        "colab": {
          "base_uri": "https://localhost:8080/",
          "height": 35
        },
        "id": "0ff4yjcYcZJp",
        "outputId": "a42da4b8-d1c0-4722-8898-a79374a68cdd"
      },
      "source": [
        "txt3 = \"Nama saya {}, Saya berumur {}\".format(\"Ken\",20)\n",
        "txt3"
      ],
      "execution_count": 12,
      "outputs": [
        {
          "output_type": "execute_result",
          "data": {
            "application/vnd.google.colaboratory.intrinsic+json": {
              "type": "string"
            },
            "text/plain": [
              "'Nama saya Ken, Saya berumur 20'"
            ]
          },
          "metadata": {
            "tags": []
          },
          "execution_count": 12
        }
      ]
    },
    {
      "cell_type": "markdown",
      "metadata": {
        "id": "Oy98mV2Bcp53"
      },
      "source": [
        "ew akan mencoba "
      ]
    },
    {
      "cell_type": "code",
      "metadata": {
        "colab": {
          "base_uri": "https://localhost:8080/"
        },
        "id": "5dA3zLtAcsyH",
        "outputId": "ca841c59-f025-4698-f9a7-33a4b8a92f68"
      },
      "source": [
        "questions = \"ew : Hi, Nama aku {}, Nama kamu siapa?\".format(\"Endang\")\n",
        "answer = \"ajiz : Nama Saya {0}, salam kenal ya\".format(\"Ajiz\")\n",
        "print(questions) \n",
        "print(answer)"
      ],
      "execution_count": 14,
      "outputs": [
        {
          "output_type": "stream",
          "text": [
            "ew : Hi, Nama aku Endang, Nama kamu siapa?\n",
            "ajiz : Nama Saya Ajiz, salam kenal ya\n"
          ],
          "name": "stdout"
        }
      ]
    },
    {
      "cell_type": "markdown",
      "metadata": {
        "id": "YISn6CPGeJxM"
      },
      "source": [
        "**Menampilkan Output cara ketiga**\n",
        "\n",
        "Menggunakan simbol %\n",
        "\n",
        "* %c : mencetak karakter\n",
        "\n",
        "* %s : mencetak data menjadi string\n",
        "\n",
        "* %i, %d : mencetak angka desimal bertanda\n",
        "* %u : mencetak angka desimal tak bertanda\n",
        "* %x, %X : mencetak angka heksa dengan huruf kecil %x atau besar %X\n",
        "* %f : mencetak angka real berkoma\n",
        "* %e, %E : mencetak tanda eksponensial dengan huruf kecil %e atau besar %E\n",
        "* %g, %G : fungsi hampir sama dengan %f dan %e hanya saja pencetakan angak di belakang koma lebih pendek"
      ]
    },
    {
      "cell_type": "code",
      "metadata": {
        "id": "r1_dA-MSeK1w"
      },
      "source": [
        "print(\"Nama saya %s yang berumur %s dan bertempat tinggal di %s\" %(nama, umur, alamat))"
      ],
      "execution_count": null,
      "outputs": []
    },
    {
      "cell_type": "markdown",
      "metadata": {
        "id": "s8EFG5sgeVuf"
      },
      "source": [
        "ew mencoba lagi"
      ]
    },
    {
      "cell_type": "code",
      "metadata": {
        "colab": {
          "base_uri": "https://localhost:8080/"
        },
        "id": "neoPSXYweTHQ",
        "outputId": "75fc212d-5712-4fe6-fe7d-00cae5139e97"
      },
      "source": [
        "print(\"Nama saya %s yang berumur %s\" %(nama, umur,))\n",
        "print(\"Akun media sosial adalah instagram dengan username %s\" %(mediasosial))"
      ],
      "execution_count": 16,
      "outputs": [
        {
          "output_type": "stream",
          "text": [
            "Nama saya Siti Hutami Endang Nopiyanti yang berumur 21 Tahun\n",
            "Akun media sosial adalah instagram dengan username @ewendangs\n"
          ],
          "name": "stdout"
        }
      ]
    },
    {
      "cell_type": "markdown",
      "metadata": {
        "id": "sEquFEBqfh0V"
      },
      "source": [
        "## **Variabel, Tipe Data, Dan Konversinya**"
      ]
    },
    {
      "cell_type": "markdown",
      "metadata": {
        "id": "YUULe1lrfinj"
      },
      "source": [
        "Selanjutnya kita akan mengenal variabel dan tipe data pada python. Ini merupakan dasar yang harus dipahami di awal sebelum melanjutkan ke materi berikutnya. Pertama kita akan memahami bagaimana sebuah variabel dituliskan dalam python."
      ]
    },
    {
      "cell_type": "markdown",
      "metadata": {
        "id": "TOCGmzcMfmSS"
      },
      "source": [
        "### Variabel\n"
      ]
    },
    {
      "cell_type": "markdown",
      "metadata": {
        "id": "8MlUn2syfp-Z"
      },
      "source": [
        "*   Variabel merupakan tempat penyimpanan data atau nilai\n",
        "*   Sebuah variabel dalam python bisa diisi dengan berbagai tipe data\n",
        "*   Nama sebuah variabel tidak bisa diawali dengan angka/numerik\n",
        "*   Nama sebuah variabel selain keyword dari bahasa python\n",
        "*   Format variabel : Nama_variabel = data/nilai"
      ]
    },
    {
      "cell_type": "markdown",
      "metadata": {
        "id": "YhLDBKxTfx9Q"
      },
      "source": [
        "**Membuat sebuah variabel dengan berbagai tipe data Python**"
      ]
    },
    {
      "cell_type": "markdown",
      "metadata": {
        "id": "ggdEruQ2f58N"
      },
      "source": [
        "versi ew"
      ]
    },
    {
      "cell_type": "code",
      "metadata": {
        "id": "QCGcP4Wwfy2b"
      },
      "source": [
        "var1 = 'Assalamualaikum Dunia Tipu Tipu!'\n",
        "var2 = 4646\n",
        "var3 = 0.14045\n",
        "var4 = False\n",
        "var5 = 1j+1j+8+8"
      ],
      "execution_count": 25,
      "outputs": []
    },
    {
      "cell_type": "markdown",
      "metadata": {
        "id": "wVBqKI4kguBM"
      },
      "source": [
        "**Memanggil variabel dan menampilkan**"
      ]
    },
    {
      "cell_type": "markdown",
      "metadata": {
        "id": "XQ242cUmgvBg"
      },
      "source": [
        "Kamu dapat memanggil variabel hanya dengan menuliskan variabel yang sudah kamu buat di atas dan menjalankan cellnya"
      ]
    },
    {
      "cell_type": "markdown",
      "metadata": {
        "id": "nn1lqVmQg4SO"
      },
      "source": [
        "ew akan mencoba"
      ]
    },
    {
      "cell_type": "code",
      "metadata": {
        "colab": {
          "base_uri": "https://localhost:8080/"
        },
        "id": "BcBM2Rrah8Ip",
        "outputId": "c90d78b4-76e2-4ed7-ea2d-8202e3d144fe"
      },
      "source": [
        "var1,(var2, var4)"
      ],
      "execution_count": 26,
      "outputs": [
        {
          "output_type": "execute_result",
          "data": {
            "text/plain": [
              "('Assalamualaikum Dunia Tipu Tipu!', (4646, False))"
            ]
          },
          "metadata": {
            "tags": []
          },
          "execution_count": 26
        }
      ]
    },
    {
      "cell_type": "markdown",
      "metadata": {
        "id": "GEvw4J0MjTfm"
      },
      "source": [
        "Selain itu, kamu juga bisa mencetak, atau menampilkan variabel yang sudah kamu buat dengan cara memasukkan syntak **print(*variable*)**. Contohnya sebagai berikut:"
      ]
    },
    {
      "cell_type": "code",
      "metadata": {
        "colab": {
          "base_uri": "https://localhost:8080/"
        },
        "id": "6VzXdpm0jXpe",
        "outputId": "352cd02e-e5b0-4c68-8451-16948e67a256"
      },
      "source": [
        "print(var1) #tipe data string\n",
        "print(var2) #tipe data integer\n",
        "print(var3) #tipe data float\n",
        "print(var4) #tipe data boolean\n",
        "print(var5) #tipe data Complex"
      ],
      "execution_count": 27,
      "outputs": [
        {
          "output_type": "stream",
          "text": [
            "Assalamualaikum Dunia Tipu Tipu!\n",
            "4646\n",
            "0.14045\n",
            "False\n",
            "(16+2j)\n"
          ],
          "name": "stdout"
        }
      ]
    },
    {
      "cell_type": "markdown",
      "metadata": {
        "id": "J6lewD5Kjyyg"
      },
      "source": [
        "tampilan variabel versi ew"
      ]
    },
    {
      "cell_type": "code",
      "metadata": {
        "colab": {
          "base_uri": "https://localhost:8080/"
        },
        "id": "N1O2N486j2Qt",
        "outputId": "cb3e1e0b-9ea6-40bb-d80b-2cfe9a391d92"
      },
      "source": [
        "#mencoba versi dirikoh\n",
        "\n",
        "print(var1) #String\n",
        "\n",
        "print(var2) #Int\n",
        "\n",
        "print(var3) #Float\n",
        "\n",
        "print(var4) #Boolean\n",
        "\n",
        "print(var5) #Complex"
      ],
      "execution_count": 28,
      "outputs": [
        {
          "output_type": "stream",
          "text": [
            "Assalamualaikum Dunia Tipu Tipu!\n",
            "4646\n",
            "0.14045\n",
            "False\n",
            "(16+2j)\n"
          ],
          "name": "stdout"
        }
      ]
    },
    {
      "cell_type": "markdown",
      "metadata": {
        "id": "KRp7fP05kaX_"
      },
      "source": [
        "Note: Tanda Pagar (#) berfungsi sebagai komentar, tidak dijalankan sebagai perintah pemrograman"
      ]
    },
    {
      "cell_type": "markdown",
      "metadata": {
        "id": "AYIamzEfkdiV"
      },
      "source": [
        "### Tipe Data"
      ]
    },
    {
      "cell_type": "markdown",
      "metadata": {
        "id": "pgbvkFKpkicc"
      },
      "source": [
        "Tipe data adalah kumpulan tipe yang dapat kamu temukan di semua data. Dengan memahami tipe data, kamu dapat menentukan nilai data yang dimiliki dari data tersebut."
      ]
    },
    {
      "cell_type": "markdown",
      "metadata": {
        "id": "ybYLCEKWkl8o"
      },
      "source": [
        "**Mengenal Beberapa Tipe Data Pada Python:**\n",
        "1.   String\n",
        "2.   Number (Integer, Float, Complex, Boolean)\n"
      ]
    },
    {
      "cell_type": "markdown",
      "metadata": {
        "id": "HalPhTF8ks26"
      },
      "source": [
        " **Melihat Tipe Data dari Suatu Variabel**"
      ]
    },
    {
      "cell_type": "markdown",
      "metadata": {
        "id": "N6XzQvsyk0OG"
      },
      "source": [
        "Kamu bisa melihat tipe variabel yang sudah kamu buat,apakah tipe data kamu adalah int, float, boolean, string, dll menggunakan fungsi **type(*variabel*)**, sebagai berikut:"
      ]
    },
    {
      "cell_type": "code",
      "metadata": {
        "colab": {
          "base_uri": "https://localhost:8080/"
        },
        "id": "BhBNhD8mloeM",
        "outputId": "5c9987b2-feb7-472f-b073-57f3f90f5ef2"
      },
      "source": [
        "type(var1)"
      ],
      "execution_count": 29,
      "outputs": [
        {
          "output_type": "execute_result",
          "data": {
            "text/plain": [
              "str"
            ]
          },
          "metadata": {
            "tags": []
          },
          "execution_count": 29
        }
      ]
    },
    {
      "cell_type": "markdown",
      "metadata": {
        "id": "LODLPloFlzzL"
      },
      "source": [
        "ew mengecek tipe variabel"
      ]
    },
    {
      "cell_type": "code",
      "metadata": {
        "colab": {
          "base_uri": "https://localhost:8080/"
        },
        "id": "rrmCH5AeluVr",
        "outputId": "666491ee-58bf-4eb6-da93-b9955728ad73"
      },
      "source": [
        "print(var1,'Tipe data var1:', type(var1)) #String\n",
        "\n",
        "print(var2,'Tipe data var2:', type(var2)) #Int\n",
        "\n",
        "print(var3,'Tipe data var3:', type(var3)) #Float\n",
        "\n",
        "print(var4,'Tipe data var4:', type(var4)) #Boolean\n",
        "\n",
        "print(var5,'Tipe data var5:', type(var5)) #complex"
      ],
      "execution_count": 30,
      "outputs": [
        {
          "output_type": "stream",
          "text": [
            "Assalamualaikum Dunia Tipu Tipu! Tipe data var1: <class 'str'>\n",
            "4646 Tipe data var2: <class 'int'>\n",
            "0.14045 Tipe data var3: <class 'float'>\n",
            "False Tipe data var4: <class 'bool'>\n",
            "(16+2j) Tipe data var5: <class 'complex'>\n"
          ],
          "name": "stdout"
        }
      ]
    },
    {
      "cell_type": "markdown",
      "metadata": {
        "id": "HRtTV-P6mej3"
      },
      "source": [
        "### Konversi Tipe Data"
      ]
    },
    {
      "cell_type": "markdown",
      "metadata": {
        "id": "WyvjHOjrmgGV"
      },
      "source": [
        "Capek gag sih ? sama aku juga hehe , bikin data baru mulu untuk sebuah tipe data yang berbeda. Kalo capek ya udah, rehat dulu. Nah ada cara lain sih, yaitu dengan mengubah tipe data yang udah kita miliki menjadi tipe data yang kita inginkan. Kadang gag harus ganti kan, cukup komit untuk merubah hal-hal yang sudah ada sesuai keinginan kita. OK Lanjuut.\n",
        "\n",
        "Intinya mah misal kita punya variabel tipenya int tapi kita butuh variabel itu jadi float ya kita bisa konversi, gimana caranya?\n",
        "\n",
        "Pake fungsi donk, fungsinya macem-macem, tapi intinya adalah fungsinya bernama tipe data baru yang ingin kita buat kemudian inputnya adalah tipe data yang mau kita ubah. Begindang .\n",
        "\n"
      ]
    },
    {
      "cell_type": "markdown",
      "metadata": {
        "id": "8CsOK_UAnNHA"
      },
      "source": [
        "Bingung?\n",
        "Ini lho macam-macam fungsinya:\n",
        "\n",
        "Fungsi untuk mengubah/konversi tipe data:\n",
        "\n",
        "a. int() : untuk mengubah menjadi integer\n",
        "\n",
        "b. float() : untuk mengubah menjadi float\n",
        "\n",
        "c. str() : untuk mengubah menjadi string\n",
        "\n",
        "d. bool() : untuk mengubah menjadi boolean\n",
        "\n",
        "e. long() : untuk mengubah menjadi integer panjang\n",
        "\n",
        "f. chr() : untuk mengubah menjadi karakter\n",
        "\n",
        "g. bin() : untuk mengubah menjadi bilangan biner\n",
        "\n",
        "h. hex() : untuk mengubah menjadi bilangan Heksadesimal\n",
        "\n",
        "i. oct() : untuk mengubah menjadi bilangan okta\n",
        "\n",
        "Contohnya ini ya:"
      ]
    },
    {
      "cell_type": "code",
      "metadata": {
        "colab": {
          "base_uri": "https://localhost:8080/"
        },
        "id": "XeiRsdydnPwW",
        "outputId": "a7cb71c9-5917-46c2-a769-638f99e268d0"
      },
      "source": [
        "number = 10\n",
        "print(\"data =\", number, \", type =\", type(number))"
      ],
      "execution_count": 31,
      "outputs": [
        {
          "output_type": "stream",
          "text": [
            "data = 10 , type = <class 'int'>\n"
          ],
          "name": "stdout"
        }
      ]
    },
    {
      "cell_type": "code",
      "metadata": {
        "colab": {
          "base_uri": "https://localhost:8080/"
        },
        "id": "u1XuOsnRncUL",
        "outputId": "84633fbc-7916-4ed3-de38-79b3d1c2591f"
      },
      "source": [
        "#ew mengkonversi\n",
        "data1 = 16\n",
        "data2 = 1999\n",
        "print(\"Data =\", data1, \", type =\", type(number))\n",
        "print(\"Data =\", data2, \", type =\", type(number))\n",
        "\n",
        "float_ = float(number)\n",
        "str_ = str(number)\n",
        "bool_ = bool(number) \n",
        "\n",
        "# Melihat data yang telah dikonversi\n",
        "print(\"Kita perhatikan tipe konversi dibawah ini : \")\n",
        "print(\"Data = \", float_ , \",type =\", type(float_))\n",
        "print(\"Data = \", str_ ,   \",type =\", type(str_))\n",
        "print(\"Data = \", bool_ ,  \",type =\", type(bool_))"
      ],
      "execution_count": 32,
      "outputs": [
        {
          "output_type": "stream",
          "text": [
            "Data = 16 , type = <class 'int'>\n",
            "Data = 1999 , type = <class 'int'>\n",
            "Kita perhatikan tipe konversi dibawah ini : \n",
            "Data =  10.0 ,type = <class 'float'>\n",
            "Data =  10 ,type = <class 'str'>\n",
            "Data =  True ,type = <class 'bool'>\n"
          ],
          "name": "stdout"
        }
      ]
    },
    {
      "cell_type": "markdown",
      "metadata": {
        "id": "gBoT-1bEo1Go"
      },
      "source": [
        "## **Berbagai Struktur Data di Python**"
      ]
    },
    {
      "cell_type": "markdown",
      "metadata": {
        "id": "vRAzAOBLo5dO"
      },
      "source": [
        "### **List**"
      ]
    },
    {
      "cell_type": "markdown",
      "metadata": {
        "id": "ly0OsCFXo85z"
      },
      "source": [
        "List adalah jenis kumpulan data terurut (ordered sequence), dan merupakan salah satu variabel yang sering digunakan pada Python. Serupa, namun tak sama dengan array pada bahasa pemrograman lainnya. Bedanya, elemen List pada Python tidak harus memiliki tipe data yang sama. Mendeklarasikan List cukup mudah dengan kurung siku dan elemen yang dipisahkan dengan koma. "
      ]
    },
    {
      "cell_type": "markdown",
      "metadata": {
        "id": "3gDK4JVio_cd"
      },
      "source": [
        "*Setiap data di dalamnya dapat diakses dengan indeks yang dimulai dari 0.*"
      ]
    },
    {
      "cell_type": "code",
      "metadata": {
        "colab": {
          "base_uri": "https://localhost:8080/"
        },
        "id": "BRPNKQXwpEaM",
        "outputId": "a1f3392e-7159-4f9b-eee0-1a1371addce4"
      },
      "source": [
        "a = [1, 2.2, 'python']\n",
        "a"
      ],
      "execution_count": 33,
      "outputs": [
        {
          "output_type": "execute_result",
          "data": {
            "text/plain": [
              "[1, 2.2, 'python']"
            ]
          },
          "metadata": {
            "tags": []
          },
          "execution_count": 33
        }
      ]
    },
    {
      "cell_type": "markdown",
      "metadata": {
        "id": "VSOdOpEjpooj"
      },
      "source": [
        "ew mencoba"
      ]
    },
    {
      "cell_type": "code",
      "metadata": {
        "colab": {
          "base_uri": "https://localhost:8080/"
        },
        "id": "k-iyscnwpOLB",
        "outputId": "36e2e068-9afa-440b-bcc0-7bb9ab66e982"
      },
      "source": [
        "letstry = [2, 3, 5, 7, 11, 'itu adalah angka Prima']\n",
        "letstry"
      ],
      "execution_count": 34,
      "outputs": [
        {
          "output_type": "execute_result",
          "data": {
            "text/plain": [
              "[2, 3, 5, 7, 11, 'itu adalah angka Prima']"
            ]
          },
          "metadata": {
            "tags": []
          },
          "execution_count": 34
        }
      ]
    },
    {
      "cell_type": "markdown",
      "metadata": {
        "id": "p92Gsoqip9at"
      },
      "source": [
        "Python mengenal slicing operator [ ] yang dapat melakukan ekstraksi sebuah item atau beberapa item yang berada dalam range tertentu pada tipe data urutan (sequences), misalnya list, string dan tuple. Beberapa tipe urutan juga mendukung \"extended slicing\" dengan parameter ketiga berupa \"step\"."
      ]
    },
    {
      "cell_type": "markdown",
      "metadata": {
        "id": "qAEeZNDHp-6I"
      },
      "source": [
        "* x[0] artinya mengambil elemen paling awal, dengan  index 0 dari List x.\n",
        "\n",
        "* x[5] artinya mengambil elemen dengan index 5 dari List x.\n",
        "\n",
        "* x[-1] artinya mengambil elemen dengan index paling belakang ke-1 dari List x.\n",
        "\n",
        "* x[3:5] artinya membuat list dari anggota elemen List x dengan index 3 hingga sebelum index 5 (tidak termasuk elemen dengan index 5, dalam hal ini hanya index 3-4).\n",
        "\n",
        "* x[:5] artinya membuat list dari anggota elemen List x paling awal hingga sebelum index 5 (tidak termasuk elemen dengan index 5, dalam hal ini hanya index 0-4).\n",
        "\n",
        "* x[-3:] artinya membuat list dari anggota elemen List x mulai index ke-3 dari belakang hingga paling belakang.\n",
        "\n",
        "* x[1:7:2] artinya membuat list dari anggota elemen List x dengan index 1 hingga sebelum index 7, dengan \"step\" 2 (dalam hal ini hanya index 1, 3, 5)."
      ]
    },
    {
      "cell_type": "code",
      "metadata": {
        "colab": {
          "base_uri": "https://localhost:8080/"
        },
        "id": "62jjUVcIqOpa",
        "outputId": "c82f28c4-44df-4a77-e537-cb883c20a6c6"
      },
      "source": [
        "x = [5,10,15,20,25,30,35,40]\n",
        "print(x[5])\n",
        "print(x[-1])\n",
        "print(x[3:5])\n",
        "print(x[:5])\n",
        "print(x[-3:])\n",
        "print(x[1:7:2])"
      ],
      "execution_count": 35,
      "outputs": [
        {
          "output_type": "stream",
          "text": [
            "30\n",
            "40\n",
            "[20, 25]\n",
            "[5, 10, 15, 20, 25]\n",
            "[30, 35, 40]\n",
            "[10, 20, 30]\n"
          ],
          "name": "stdout"
        }
      ]
    },
    {
      "cell_type": "markdown",
      "metadata": {
        "id": "tuXZjb0ZqRfG"
      },
      "source": [
        "ew mencoba"
      ]
    },
    {
      "cell_type": "code",
      "metadata": {
        "colab": {
          "base_uri": "https://localhost:8080/"
        },
        "id": "sXg5-d4UqTeF",
        "outputId": "80a1e189-3ce8-43b2-98e0-dd92bae43693"
      },
      "source": [
        "xixi = [11, 13, 17, 23, 29, 31, 37, 41, 43, 47, 53, 59, 61]\n",
        "print(xixi[11])\n",
        "print(xixi[-2])\n",
        "print(xixi[4:6])\n",
        "print(xixi[:7])\n",
        "print(xixi[-5:])\n",
        "print(xixi[2:8:1])"
      ],
      "execution_count": 36,
      "outputs": [
        {
          "output_type": "stream",
          "text": [
            "59\n",
            "59\n",
            "[29, 31]\n",
            "[11, 13, 17, 23, 29, 31, 37]\n",
            "[43, 47, 53, 59, 61]\n",
            "[17, 23, 29, 31, 37, 41]\n"
          ],
          "name": "stdout"
        }
      ]
    },
    {
      "cell_type": "markdown",
      "metadata": {
        "id": "7PWI1uq_ryYf"
      },
      "source": [
        "Elemen pada list dapat diubah atau ditambahkan. Misalnya untuk melakukan perubahan kemudian penambahan:"
      ]
    },
    {
      "cell_type": "code",
      "metadata": {
        "colab": {
          "base_uri": "https://localhost:8080/"
        },
        "id": "wdl7rAShr0Eg",
        "outputId": "5c815857-4af0-4f80-94f3-9a4d484c371f"
      },
      "source": [
        "#Mengganti elemen\n",
        "x = [1,2,3]\n",
        "x[2]=4\n",
        "print (x)"
      ],
      "execution_count": 37,
      "outputs": [
        {
          "output_type": "stream",
          "text": [
            "[1, 2, 4]\n"
          ],
          "name": "stdout"
        }
      ]
    },
    {
      "cell_type": "code",
      "metadata": {
        "colab": {
          "base_uri": "https://localhost:8080/"
        },
        "id": "ZJ4oIENcr7xu",
        "outputId": "87e9bcc1-dce8-40e7-8ccf-a10b4008ca76"
      },
      "source": [
        "#Menambah elemen\n",
        "x = [1,2,3]\n",
        "x[2]=4\n",
        "x.append(5) #append artinya menambah\n",
        "print(x)"
      ],
      "execution_count": 38,
      "outputs": [
        {
          "output_type": "stream",
          "text": [
            "[1, 2, 4, 5]\n"
          ],
          "name": "stdout"
        }
      ]
    },
    {
      "cell_type": "markdown",
      "metadata": {
        "id": "6WP6SvDPr948"
      },
      "source": [
        "ew akan mencoba"
      ]
    },
    {
      "cell_type": "code",
      "metadata": {
        "colab": {
          "base_uri": "https://localhost:8080/"
        },
        "id": "Yf24jIRdr_jA",
        "outputId": "7dd80987-162e-4c24-8421-e2c1c8807bf6"
      },
      "source": [
        "#ew mengganti elemen\n",
        "ew = [5, 10, 25]\n",
        "ew[2] = 30\n",
        "print(ew)\n",
        "\n",
        "#ew menambah elemen\n",
        "ew = [5, 10, 25]\n",
        "ew[2] = 30\n",
        "ew.append(35) #append artinya menambah\n",
        "print(ew)"
      ],
      "execution_count": 39,
      "outputs": [
        {
          "output_type": "stream",
          "text": [
            "[5, 10, 30]\n",
            "[5, 10, 30, 35]\n"
          ],
          "name": "stdout"
        }
      ]
    },
    {
      "cell_type": "markdown",
      "metadata": {
        "id": "j8zMYos_s3v9"
      },
      "source": [
        "Untuk menghapus item pada list, gunakan fungsi del. *Ingat bahwa Indeks Python dimulai dari 0*:"
      ]
    },
    {
      "cell_type": "code",
      "metadata": {
        "colab": {
          "base_uri": "https://localhost:8080/"
        },
        "id": "m16l_-jos8k_",
        "outputId": "0fa45db3-ec1d-472f-9078-aeda95e5c01f"
      },
      "source": [
        "binatang = ['kucing', 'rusa', 'badak', 'gajah']\n",
        "del binatang[2]\n",
        "print(binatang)"
      ],
      "execution_count": 40,
      "outputs": [
        {
          "output_type": "stream",
          "text": [
            "['kucing', 'rusa', 'gajah']\n"
          ],
          "name": "stdout"
        }
      ]
    },
    {
      "cell_type": "markdown",
      "metadata": {
        "id": "TTLD02yntAq_"
      },
      "source": [
        "ew mencoba"
      ]
    },
    {
      "cell_type": "code",
      "metadata": {
        "colab": {
          "base_uri": "https://localhost:8080/"
        },
        "id": "9verLzCdtCKh",
        "outputId": "e2e85f80-2eb9-4bc9-e145-7c37c61de7a4"
      },
      "source": [
        "buah = ['Naga', 'Nanas' , 'Pisang', 'Jeruk']\n",
        "del buah[3]\n",
        "print(buah)"
      ],
      "execution_count": 41,
      "outputs": [
        {
          "output_type": "stream",
          "text": [
            "['Naga', 'Nanas', 'Pisang']\n"
          ],
          "name": "stdout"
        }
      ]
    },
    {
      "cell_type": "markdown",
      "metadata": {
        "id": "XX4XFlH9tc_h"
      },
      "source": [
        "Coba tambahkan kembali:"
      ]
    },
    {
      "cell_type": "code",
      "metadata": {
        "colab": {
          "base_uri": "https://localhost:8080/"
        },
        "id": "JEEtMhnbtmx6",
        "outputId": "9f8b9e5c-2885-4549-a50d-c51e63d90619"
      },
      "source": [
        "buah = ['Naga', 'Nanas' , 'Pisang', 'Jeruk']\n",
        "del buah[3]\n",
        "print(buah)\n",
        "del buah[2]\n",
        "print(buah)"
      ],
      "execution_count": 42,
      "outputs": [
        {
          "output_type": "stream",
          "text": [
            "['Naga', 'Nanas', 'Pisang']\n",
            "['Naga', 'Nanas']\n"
          ],
          "name": "stdout"
        }
      ]
    },
    {
      "cell_type": "markdown",
      "metadata": {
        "id": "2AcwyJ1ftx2d"
      },
      "source": [
        "Slicing pada String"
      ]
    },
    {
      "cell_type": "markdown",
      "metadata": {
        "id": "lAYjwJRTt1Wj"
      },
      "source": [
        "Karena string mirip dengan list, maka slicing operator [ ]  juga dapat digunakan pada string untuk mengambil isinya atau bahkan substring. Sebuah string utuh bersifat mutable (bisa diubah), namun elemennya bersifat immutable (tidak bisa diubah)."
      ]
    },
    {
      "cell_type": "code",
      "metadata": {
        "colab": {
          "base_uri": "https://localhost:8080/"
        },
        "id": "eZFEVUxXt9he",
        "outputId": "72b32a6b-814d-416a-a749-c611ca8b1400"
      },
      "source": [
        "s = \"Assalamualaikum Dunia!\"\n",
        "print(s[4]) \t\t#ambil karakter kelima dari string s\n",
        "print(s[6:11]) \t\t#ambil karakter ketujuh hingga sebelas dari string s\n",
        "s = \"Halo Dunia!\"\t#ubah isi string s menjadi \"Halo Dunia!\", seharusnya berhasil karena mutable\n",
        "print (s)"
      ],
      "execution_count": 43,
      "outputs": [
        {
          "output_type": "stream",
          "text": [
            "l\n",
            "muala\n",
            "Halo Dunia!\n"
          ],
          "name": "stdout"
        }
      ]
    },
    {
      "cell_type": "code",
      "metadata": {
        "id": "dkBtapazuLZT"
      },
      "source": [
        "s[5]=\"d\"        #ubah karakter keenam dari string s menjadi \"d\", seharusnya gagal karena immutable"
      ],
      "execution_count": null,
      "outputs": []
    },
    {
      "cell_type": "markdown",
      "metadata": {
        "id": "ADnEIFSauPAt"
      },
      "source": [
        "let's try"
      ]
    },
    {
      "cell_type": "code",
      "metadata": {
        "colab": {
          "base_uri": "https://localhost:8080/"
        },
        "id": "cnmYrtiKuX_s",
        "outputId": "a30028a7-e561-4f03-997f-3c54d6aaad0b"
      },
      "source": [
        "s = \"Hi, capek ya ? !\"\n",
        "print(s[5]) \t\t\n",
        "print(s[4:10]) \t\t\n",
        "s = \"Sama aku juga!\"\t\n",
        "print (s)"
      ],
      "execution_count": 44,
      "outputs": [
        {
          "output_type": "stream",
          "text": [
            "a\n",
            "capek \n",
            "Sama aku juga!\n"
          ],
          "name": "stdout"
        }
      ]
    },
    {
      "cell_type": "markdown",
      "metadata": {
        "id": "Hj8iFE6RvKG7"
      },
      "source": [
        "### **Tuple**"
      ]
    },
    {
      "cell_type": "markdown",
      "metadata": {
        "id": "bkj95RSgvLYx"
      },
      "source": [
        "Tuple adalah jenis dari list yang tidak dapat diubah elemennya. Umumnya tuple digunakan untuk data yang bersifat sekali tulis, dan dapat dieksekusi lebih cepat. Tuple didefinisikan dengan kurung dan elemen yang dipisahkan dengan koma."
      ]
    },
    {
      "cell_type": "code",
      "metadata": {
        "colab": {
          "base_uri": "https://localhost:8080/"
        },
        "id": "1JiQDKycvQx_",
        "outputId": "d8971edc-05ca-477b-e5e1-e94fd7770c85"
      },
      "source": [
        "t = (5,'program', 1+3j)\n",
        "t"
      ],
      "execution_count": 45,
      "outputs": [
        {
          "output_type": "execute_result",
          "data": {
            "text/plain": [
              "(5, 'program', (1+3j))"
            ]
          },
          "metadata": {
            "tags": []
          },
          "execution_count": 45
        }
      ]
    },
    {
      "cell_type": "markdown",
      "metadata": {
        "id": "fspo3yYxvcGN"
      },
      "source": [
        "Seperti list, kita dapat melakukan slicing, namun pada tuple kita tidak dapat melakukan perubahan:"
      ]
    },
    {
      "cell_type": "code",
      "metadata": {
        "colab": {
          "base_uri": "https://localhost:8080/"
        },
        "id": "hqMgeuzxvdO4",
        "outputId": "97e4673d-12ef-4b69-a7bb-a7dfe4f9b17a"
      },
      "source": [
        "t = (5,'program', 1+3j)\n",
        "print(t[1])\n",
        "print(t[0:3])"
      ],
      "execution_count": 46,
      "outputs": [
        {
          "output_type": "stream",
          "text": [
            "program\n",
            "(5, 'program', (1+3j))\n"
          ],
          "name": "stdout"
        }
      ]
    },
    {
      "cell_type": "code",
      "metadata": {
        "colab": {
          "base_uri": "https://localhost:8080/"
        },
        "id": "eOtksDqwvy7m",
        "outputId": "f2ec9652-d33d-47d3-eef4-dcb2e429d8e4"
      },
      "source": [
        "kita = (8, 2,2021 ,'Hari jadi kita')\n",
        "print (kita)\n",
        "print(kita[-1])\n",
        "del[]"
      ],
      "execution_count": 50,
      "outputs": [
        {
          "output_type": "stream",
          "text": [
            "(8, 2, 2021, 'Hari jadi kita')\n",
            "Hari jadi kita\n"
          ],
          "name": "stdout"
        }
      ]
    },
    {
      "cell_type": "markdown",
      "metadata": {
        "id": "qqwFLvtFwj7X"
      },
      "source": [
        "### **Set**"
      ]
    },
    {
      "cell_type": "markdown",
      "metadata": {
        "id": "QU6TbNGVwk4T"
      },
      "source": [
        "Set adalah kumpulan item bersifat unik dan tanpa urutan (unordered collection). Didefinisikan dengan kurawal dan elemennya dipisahkan dengan koma. Pada Set kita dapat melakukan union dan intersection, sekaligus otomatis melakukan penghapusan data duplikat."
      ]
    },
    {
      "cell_type": "code",
      "metadata": {
        "colab": {
          "base_uri": "https://localhost:8080/"
        },
        "id": "yh4qsuVewr0D",
        "outputId": "25a851be-9d33-4151-d7c9-50f6d14bd96f"
      },
      "source": [
        "a = {1,2,2,3,3,3}\n",
        "print(a)"
      ],
      "execution_count": 51,
      "outputs": [
        {
          "output_type": "stream",
          "text": [
            "{1, 2, 3}\n"
          ],
          "name": "stdout"
        }
      ]
    },
    {
      "cell_type": "markdown",
      "metadata": {
        "id": "pWoNtnO5wzSz"
      },
      "source": [
        "Karena set bersifat unordered, maka kita tidak bisa mengambil sebagian data / elemen datanya menggunakan proses slicing."
      ]
    },
    {
      "cell_type": "code",
      "metadata": {
        "colab": {
          "base_uri": "https://localhost:8080/",
          "height": 180
        },
        "id": "zs42MJCqw0Xj",
        "outputId": "87e7bd00-41f4-4f5c-fdd7-5d3e8b8eb978"
      },
      "source": [
        "a = {1,2,3}\n",
        "print(a[1])"
      ],
      "execution_count": 52,
      "outputs": [
        {
          "output_type": "error",
          "ename": "TypeError",
          "evalue": "ignored",
          "traceback": [
            "\u001b[0;31m---------------------------------------------------------------------------\u001b[0m",
            "\u001b[0;31mTypeError\u001b[0m                                 Traceback (most recent call last)",
            "\u001b[0;32m<ipython-input-52-3732f14f209e>\u001b[0m in \u001b[0;36m<module>\u001b[0;34m()\u001b[0m\n\u001b[1;32m      1\u001b[0m \u001b[0ma\u001b[0m \u001b[0;34m=\u001b[0m \u001b[0;34m{\u001b[0m\u001b[0;36m1\u001b[0m\u001b[0;34m,\u001b[0m\u001b[0;36m2\u001b[0m\u001b[0;34m,\u001b[0m\u001b[0;36m3\u001b[0m\u001b[0;34m}\u001b[0m\u001b[0;34m\u001b[0m\u001b[0;34m\u001b[0m\u001b[0m\n\u001b[0;32m----> 2\u001b[0;31m \u001b[0mprint\u001b[0m\u001b[0;34m(\u001b[0m\u001b[0ma\u001b[0m\u001b[0;34m[\u001b[0m\u001b[0;36m1\u001b[0m\u001b[0;34m]\u001b[0m\u001b[0;34m)\u001b[0m\u001b[0;34m\u001b[0m\u001b[0;34m\u001b[0m\u001b[0m\n\u001b[0m",
            "\u001b[0;31mTypeError\u001b[0m: 'set' object is not subscriptable"
          ]
        }
      ]
    },
    {
      "cell_type": "markdown",
      "metadata": {
        "id": "sCK7LjYHxAD5"
      },
      "source": [
        "### **Dictionary**"
      ]
    },
    {
      "cell_type": "markdown",
      "metadata": {
        "id": "FW0BVkGTxEKv"
      },
      "source": [
        "Dictionary pada Python adalah kumpulan pasangan kunci-nilai (pair of key-value) yang bersifat tidak berurutan. Dictionary dapat digunakan untuk menyimpan data kecil hingga besar. Untuk mengakses datanya, kita harus mengetahui kuncinya (key). Pada Python, dictionary didefinisikan dengan kurawal dan tambahan definisi berikut:"
      ]
    },
    {
      "cell_type": "markdown",
      "metadata": {
        "id": "o0G1iyK1xHPl"
      },
      "source": [
        "1. Setiap elemen pair key-value dipisahkan dengan koma (,).\n",
        "2. Key dan Value dipisahkan dengan titik dua (:).\n",
        "3. Key dan Value dapat berupa tipe variabel/obyek apapun."
      ]
    },
    {
      "cell_type": "code",
      "metadata": {
        "colab": {
          "base_uri": "https://localhost:8080/"
        },
        "id": "bL7qLrc7xMWv",
        "outputId": "10e70cbf-8813-49c8-dfdd-74594c214c8f"
      },
      "source": [
        "d = {1:'value','key':2}\n",
        "print(type(d))"
      ],
      "execution_count": 53,
      "outputs": [
        {
          "output_type": "stream",
          "text": [
            "<class 'dict'>\n"
          ],
          "name": "stdout"
        }
      ]
    },
    {
      "cell_type": "code",
      "metadata": {
        "colab": {
          "base_uri": "https://localhost:8080/"
        },
        "id": "yBrjBCoHxN-9",
        "outputId": "b6bb1b12-2e03-4787-e814-e378b698d662"
      },
      "source": [
        "d = {1:'value','key':2}\n",
        "print(type(d))\n",
        "print(\"d[1] = \", d[1]);\n",
        "print(\"d['key'] = \", d['key']);"
      ],
      "execution_count": 54,
      "outputs": [
        {
          "output_type": "stream",
          "text": [
            "<class 'dict'>\n",
            "d[1] =  value\n",
            "d['key'] =  2\n"
          ],
          "name": "stdout"
        }
      ]
    },
    {
      "cell_type": "markdown",
      "metadata": {
        "id": "JmZ4k5zBxUqI"
      },
      "source": [
        "Dictionary bukan termasuk dalam implementasi urutan (sequences), sehingga tidak bisa dipanggil dengan urutan indeks. Misalnya dalam contoh berikut dicoba dengan indeks 2, tetapi menghasilkan error (KeyError) karena tidak ada kunci (key) 2:"
      ]
    },
    {
      "cell_type": "code",
      "metadata": {
        "colab": {
          "base_uri": "https://localhost:8080/"
        },
        "id": "5IbAl-uoxiGQ",
        "outputId": "a0e630c4-2dd1-4b9f-8c6f-27066a81101a"
      },
      "source": [
        "d = {1:'value','key':2}\n",
        "print(type(d))\n",
        "print(\"d[1] = \", d[1]);\n",
        "print(\"d['key'] = \", d['key']);"
      ],
      "execution_count": 55,
      "outputs": [
        {
          "output_type": "stream",
          "text": [
            "<class 'dict'>\n",
            "d[1] =  value\n",
            "d['key'] =  2\n"
          ],
          "name": "stdout"
        }
      ]
    },
    {
      "cell_type": "code",
      "metadata": {
        "colab": {
          "base_uri": "https://localhost:8080/"
        },
        "id": "Q9LDYnZzxojs",
        "outputId": "870caa9a-1121-4558-fd4e-8976bec7f8b4"
      },
      "source": [
        "#ew mencoba\n",
        "dc = {16:'nilai','kunci':13}\n",
        "print(type(dc))\n",
        "print(\"dc[16] adalah \", dc[16]);\n",
        "print(\"dc['kunci'] adalah\", dc['kunci'])"
      ],
      "execution_count": 56,
      "outputs": [
        {
          "output_type": "stream",
          "text": [
            "<class 'dict'>\n",
            "dc[16] adalah  nilai\n",
            "dc['kunci'] adalah 13\n"
          ],
          "name": "stdout"
        }
      ]
    },
    {
      "cell_type": "markdown",
      "metadata": {
        "id": "CyvP1qqjx5fd"
      },
      "source": [
        "### **Konversi Struktur Data**"
      ]
    },
    {
      "cell_type": "markdown",
      "metadata": {
        "id": "BLrv6-FJx6SG"
      },
      "source": [
        "Fungsi untuk mengubah/konversi struktur data:\n",
        "\n",
        "a. list() : untuk mengubah menjadi list\n",
        "\n",
        "b. tuple() : untuk mengubah menjadi tuple\n",
        "\n",
        "c. set() : untuk mengubah menjadi set\n",
        "\n",
        "d. dict() : untuk mengubah menjadi dictonary"
      ]
    },
    {
      "cell_type": "markdown",
      "metadata": {
        "id": "YcYJcV_OyAKx"
      },
      "source": [
        "Contoh:"
      ]
    },
    {
      "cell_type": "code",
      "metadata": {
        "colab": {
          "base_uri": "https://localhost:8080/"
        },
        "id": "SvrRoXmCyBQq",
        "outputId": "d86e9ceb-152e-467f-ee0f-53c09d6bd95b"
      },
      "source": [
        "list1 = [1,2,3,4,5]\n",
        "list2 = [\"satu\",\"dua\",\"tiga\",\"empat\",\"lima\"]\n",
        "print(\"data = \", list1 , \",type =\", type(list1))"
      ],
      "execution_count": 57,
      "outputs": [
        {
          "output_type": "stream",
          "text": [
            "data =  [1, 2, 3, 4, 5] ,type = <class 'list'>\n"
          ],
          "name": "stdout"
        }
      ]
    },
    {
      "cell_type": "code",
      "metadata": {
        "colab": {
          "base_uri": "https://localhost:8080/"
        },
        "id": "O7WUSrYyyHDF",
        "outputId": "851027ee-f737-4cc3-9ecf-1a19b63918c0"
      },
      "source": [
        "# Mengkonversi struktur data list\n",
        "kon_tuple = tuple(list1)\n",
        "kon_set = set(list1)\n",
        "kon_dict = dict(zip(list2,list1))\n",
        "\n",
        "# Melihat data yang telah dikonversi\n",
        "print(kon_tuple)\n",
        "print(kon_set)\n",
        "print(kon_dict)"
      ],
      "execution_count": 58,
      "outputs": [
        {
          "output_type": "stream",
          "text": [
            "(1, 2, 3, 4, 5)\n",
            "{1, 2, 3, 4, 5}\n",
            "{'satu': 1, 'dua': 2, 'tiga': 3, 'empat': 4, 'lima': 5}\n"
          ],
          "name": "stdout"
        }
      ]
    },
    {
      "cell_type": "markdown",
      "metadata": {
        "id": "roiEekfoyz_c"
      },
      "source": [
        "Jadi yang saya dapat tentang Tuple, Set & Dictionary adalah sebagai berikut :\n",
        "\n",
        "Tuple : Tuples sebenarnya sama seperti list. Namun perbedaannya hanya pada pembuatannya. Bila list menggunakan kurung siku buka dan tutup “[]” untuk mengawali dan mengakhirinya, maka pada tuples, menggunakan kurung buka dan tutup biasa “()” untuk mengawali dan mengakhiri elemennya.\n",
        "\n",
        "Set : set mengunakan kurung kurawal buka untuk pembukanya dan kurung kurawal tutup untuk menutupnya “{}”. Dan data di dalamnya dipisahkan oleh tanda koma. Dan lebih aneh nya lagi, data – data yan gada pada SET ini tidak boleh ada yang sama.\n",
        "\n",
        "Dictionary : Dictionaries adalah koleksi pasangan item-item berasosiasi dimana setiap pasangan terdiri dari suatu key dan value. Pasangan key-value ini ditulis seabagai key:value. Dictionaries ditulis dipisahkan koma dalam kurung kurawal. Untuk lebih memahaminya, silahkan kalian ketik code di bawah ini pada command line atau IDLE python.\n",
        "\n",
        "Alhamdulillah Selesai"
      ]
    }
  ]
}